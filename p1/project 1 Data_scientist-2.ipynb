{
 "cells": [
  {
   "cell_type": "markdown",
   "id": "6456f6b1",
   "metadata": {},
   "source": [
    "# Coffee Reviews Dataset\n",
    "\n",
    "#### By Mohammad Alturayr"
   ]
  },
  {
   "cell_type": "markdown",
   "id": "da45130c",
   "metadata": {},
   "source": [
    "### introduction:  \n",
    "In this project I decided to analysed coffee reviews dataset found on kaggle: https://www.kaggle.com/datasets/schmoyote/coffee-reviews-dataset by using the CRISP-DM Process."
   ]
  },
  {
   "cell_type": "markdown",
   "id": "a045e583",
   "metadata": {},
   "source": [
    "### Read & clean data"
   ]
  },
  {
   "cell_type": "code",
   "execution_count": 1,
   "id": "050ea5d8",
   "metadata": {},
   "outputs": [],
   "source": [
    "import numpy as np\n",
    "import pandas as pd\n",
    "import matplotlib.pyplot as plt\n",
    "from sklearn.linear_model import LinearRegression\n",
    "from sklearn.model_selection import train_test_split\n",
    "from sklearn.metrics import r2_score, mean_squared_error\n",
    "\n",
    "import seaborn as sns\n",
    "%matplotlib inline"
   ]
  },
  {
   "cell_type": "code",
   "execution_count": 2,
   "id": "64a39c31",
   "metadata": {},
   "outputs": [],
   "source": [
    "dff = pd.read_csv('simplified_coffee.csv')"
   ]
  },
  {
   "cell_type": "code",
   "execution_count": 3,
   "id": "ebe6cba4",
   "metadata": {},
   "outputs": [
    {
     "name": "stdout",
     "output_type": "stream",
     "text": [
      "(1246, 9)\n"
     ]
    },
    {
     "data": {
      "text/html": [
       "<div>\n",
       "<style scoped>\n",
       "    .dataframe tbody tr th:only-of-type {\n",
       "        vertical-align: middle;\n",
       "    }\n",
       "\n",
       "    .dataframe tbody tr th {\n",
       "        vertical-align: top;\n",
       "    }\n",
       "\n",
       "    .dataframe thead th {\n",
       "        text-align: right;\n",
       "    }\n",
       "</style>\n",
       "<table border=\"1\" class=\"dataframe\">\n",
       "  <thead>\n",
       "    <tr style=\"text-align: right;\">\n",
       "      <th></th>\n",
       "      <th>name</th>\n",
       "      <th>roaster</th>\n",
       "      <th>roast</th>\n",
       "      <th>loc_country</th>\n",
       "      <th>origin</th>\n",
       "      <th>100g_USD</th>\n",
       "      <th>rating</th>\n",
       "      <th>review_date</th>\n",
       "      <th>review</th>\n",
       "    </tr>\n",
       "  </thead>\n",
       "  <tbody>\n",
       "    <tr>\n",
       "      <th>0</th>\n",
       "      <td>Ethiopia Shakiso Mormora</td>\n",
       "      <td>Revel Coffee</td>\n",
       "      <td>Medium-Light</td>\n",
       "      <td>United States</td>\n",
       "      <td>Ethiopia</td>\n",
       "      <td>4.70</td>\n",
       "      <td>92</td>\n",
       "      <td>November 2017</td>\n",
       "      <td>Crisply sweet, cocoa-toned. Lemon blossom, roa...</td>\n",
       "    </tr>\n",
       "    <tr>\n",
       "      <th>1</th>\n",
       "      <td>Ethiopia Suke Quto</td>\n",
       "      <td>Roast House</td>\n",
       "      <td>Medium-Light</td>\n",
       "      <td>United States</td>\n",
       "      <td>Ethiopia</td>\n",
       "      <td>4.19</td>\n",
       "      <td>92</td>\n",
       "      <td>November 2017</td>\n",
       "      <td>Delicate, sweetly spice-toned. Pink peppercorn...</td>\n",
       "    </tr>\n",
       "    <tr>\n",
       "      <th>2</th>\n",
       "      <td>Ethiopia Gedeb Halo Beriti</td>\n",
       "      <td>Big Creek Coffee Roasters</td>\n",
       "      <td>Medium</td>\n",
       "      <td>United States</td>\n",
       "      <td>Ethiopia</td>\n",
       "      <td>4.85</td>\n",
       "      <td>94</td>\n",
       "      <td>November 2017</td>\n",
       "      <td>Deeply sweet, subtly pungent. Honey, pear, tan...</td>\n",
       "    </tr>\n",
       "    <tr>\n",
       "      <th>3</th>\n",
       "      <td>Ethiopia Kayon Mountain</td>\n",
       "      <td>Red Rooster Coffee Roaster</td>\n",
       "      <td>Light</td>\n",
       "      <td>United States</td>\n",
       "      <td>Ethiopia</td>\n",
       "      <td>5.14</td>\n",
       "      <td>93</td>\n",
       "      <td>November 2017</td>\n",
       "      <td>Delicate, richly and sweetly tart. Dried hibis...</td>\n",
       "    </tr>\n",
       "    <tr>\n",
       "      <th>4</th>\n",
       "      <td>Ethiopia Gelgelu Natural Organic</td>\n",
       "      <td>Willoughby's Coffee &amp; Tea</td>\n",
       "      <td>Medium-Light</td>\n",
       "      <td>United States</td>\n",
       "      <td>Ethiopia</td>\n",
       "      <td>3.97</td>\n",
       "      <td>93</td>\n",
       "      <td>November 2017</td>\n",
       "      <td>High-toned, floral. Dried apricot, magnolia, a...</td>\n",
       "    </tr>\n",
       "  </tbody>\n",
       "</table>\n",
       "</div>"
      ],
      "text/plain": [
       "                               name                     roaster         roast  \\\n",
       "0          Ethiopia Shakiso Mormora                Revel Coffee  Medium-Light   \n",
       "1                Ethiopia Suke Quto                 Roast House  Medium-Light   \n",
       "2        Ethiopia Gedeb Halo Beriti   Big Creek Coffee Roasters        Medium   \n",
       "3           Ethiopia Kayon Mountain  Red Rooster Coffee Roaster         Light   \n",
       "4  Ethiopia Gelgelu Natural Organic   Willoughby's Coffee & Tea  Medium-Light   \n",
       "\n",
       "     loc_country    origin  100g_USD  rating    review_date  \\\n",
       "0  United States  Ethiopia      4.70      92  November 2017   \n",
       "1  United States  Ethiopia      4.19      92  November 2017   \n",
       "2  United States  Ethiopia      4.85      94  November 2017   \n",
       "3  United States  Ethiopia      5.14      93  November 2017   \n",
       "4  United States  Ethiopia      3.97      93  November 2017   \n",
       "\n",
       "                                              review  \n",
       "0  Crisply sweet, cocoa-toned. Lemon blossom, roa...  \n",
       "1  Delicate, sweetly spice-toned. Pink peppercorn...  \n",
       "2  Deeply sweet, subtly pungent. Honey, pear, tan...  \n",
       "3  Delicate, richly and sweetly tart. Dried hibis...  \n",
       "4  High-toned, floral. Dried apricot, magnolia, a...  "
      ]
     },
     "execution_count": 3,
     "metadata": {},
     "output_type": "execute_result"
    }
   ],
   "source": [
    "print(dff.shape)\n",
    "dff.head()"
   ]
  },
  {
   "cell_type": "markdown",
   "id": "13d8c7c6",
   "metadata": {},
   "source": [
    "As we can see, the dataset had 1246 rows & 9 columns.\n",
    "\n",
    "**dataset columns**:\n",
    "\n",
    "  * name: Name of the blend\n",
    "  * roaster: Name of the roaster\n",
    "  * roast: Type of roast (Light, Medium-Light, Medium, Medium-Dark, Dark)\n",
    "  * loc_country: Location of the roaster\n",
    "  * origin: Origin of the beans\n",
    "  * 100g_USD: price per 100g of beans in US dollar\n",
    "  * rating: Rating of the coffee\n",
    "  * review_date: Date of the coffee review\n",
    "  * review: Text of review"
   ]
  },
  {
   "cell_type": "markdown",
   "id": "ead0064b",
   "metadata": {},
   "source": [
    "### Discover and cleaning the Data"
   ]
  },
  {
   "cell_type": "code",
   "execution_count": 4,
   "id": "14ed0fd7",
   "metadata": {},
   "outputs": [
    {
     "name": "stdout",
     "output_type": "stream",
     "text": [
      "<class 'pandas.core.frame.DataFrame'>\n",
      "RangeIndex: 1246 entries, 0 to 1245\n",
      "Data columns (total 9 columns):\n",
      " #   Column       Non-Null Count  Dtype  \n",
      "---  ------       --------------  -----  \n",
      " 0   name         1246 non-null   object \n",
      " 1   roaster      1246 non-null   object \n",
      " 2   roast        1234 non-null   object \n",
      " 3   loc_country  1246 non-null   object \n",
      " 4   origin       1246 non-null   object \n",
      " 5   100g_USD     1246 non-null   float64\n",
      " 6   rating       1246 non-null   int64  \n",
      " 7   review_date  1246 non-null   object \n",
      " 8   review       1246 non-null   object \n",
      "dtypes: float64(1), int64(1), object(7)\n",
      "memory usage: 87.7+ KB\n"
     ]
    }
   ],
   "source": [
    "dff.info()"
   ]
  },
  {
   "cell_type": "code",
   "execution_count": 5,
   "id": "e90ddd93",
   "metadata": {},
   "outputs": [
    {
     "data": {
      "text/plain": [
       "name            0\n",
       "roaster         0\n",
       "roast          12\n",
       "loc_country     0\n",
       "origin          0\n",
       "100g_USD        0\n",
       "rating          0\n",
       "review_date     0\n",
       "review          0\n",
       "dtype: int64"
      ]
     },
     "execution_count": 5,
     "metadata": {},
     "output_type": "execute_result"
    }
   ],
   "source": [
    "dff.isnull().sum()"
   ]
  },
  {
   "cell_type": "code",
   "execution_count": 6,
   "id": "1377bd2b",
   "metadata": {},
   "outputs": [
    {
     "data": {
      "text/plain": [
       "0"
      ]
     },
     "execution_count": 6,
     "metadata": {},
     "output_type": "execute_result"
    }
   ],
   "source": [
    "dff.duplicated().sum()"
   ]
  },
  {
   "cell_type": "markdown",
   "id": "6e406799",
   "metadata": {},
   "source": [
    "As we can see the data almost clean im only going to drop the null values and change review_date datatype to datetime. "
   ]
  },
  {
   "cell_type": "code",
   "execution_count": 7,
   "id": "26471d1f",
   "metadata": {},
   "outputs": [],
   "source": [
    "dff['review_date'] = pd.to_datetime(dff['review_date']) "
   ]
  },
  {
   "cell_type": "code",
   "execution_count": 8,
   "id": "a6e84e77",
   "metadata": {},
   "outputs": [],
   "source": [
    "dff.dropna(inplace=True)"
   ]
  },
  {
   "cell_type": "code",
   "execution_count": 9,
   "id": "7bc627da",
   "metadata": {},
   "outputs": [
    {
     "name": "stdout",
     "output_type": "stream",
     "text": [
      "<class 'pandas.core.frame.DataFrame'>\n",
      "Int64Index: 1234 entries, 0 to 1245\n",
      "Data columns (total 9 columns):\n",
      " #   Column       Non-Null Count  Dtype         \n",
      "---  ------       --------------  -----         \n",
      " 0   name         1234 non-null   object        \n",
      " 1   roaster      1234 non-null   object        \n",
      " 2   roast        1234 non-null   object        \n",
      " 3   loc_country  1234 non-null   object        \n",
      " 4   origin       1234 non-null   object        \n",
      " 5   100g_USD     1234 non-null   float64       \n",
      " 6   rating       1234 non-null   int64         \n",
      " 7   review_date  1234 non-null   datetime64[ns]\n",
      " 8   review       1234 non-null   object        \n",
      "dtypes: datetime64[ns](1), float64(1), int64(1), object(6)\n",
      "memory usage: 96.4+ KB\n"
     ]
    }
   ],
   "source": [
    "#check if its work\n",
    "dff.info()"
   ]
  },
  {
   "cell_type": "code",
   "execution_count": 10,
   "id": "ea98d035",
   "metadata": {},
   "outputs": [
    {
     "data": {
      "text/html": [
       "<div>\n",
       "<style scoped>\n",
       "    .dataframe tbody tr th:only-of-type {\n",
       "        vertical-align: middle;\n",
       "    }\n",
       "\n",
       "    .dataframe tbody tr th {\n",
       "        vertical-align: top;\n",
       "    }\n",
       "\n",
       "    .dataframe thead th {\n",
       "        text-align: right;\n",
       "    }\n",
       "</style>\n",
       "<table border=\"1\" class=\"dataframe\">\n",
       "  <thead>\n",
       "    <tr style=\"text-align: right;\">\n",
       "      <th></th>\n",
       "      <th>100g_USD</th>\n",
       "      <th>rating</th>\n",
       "    </tr>\n",
       "  </thead>\n",
       "  <tbody>\n",
       "    <tr>\n",
       "      <th>count</th>\n",
       "      <td>1234.000000</td>\n",
       "      <td>1234.000000</td>\n",
       "    </tr>\n",
       "    <tr>\n",
       "      <th>mean</th>\n",
       "      <td>10.093679</td>\n",
       "      <td>93.300648</td>\n",
       "    </tr>\n",
       "    <tr>\n",
       "      <th>std</th>\n",
       "      <td>11.965835</td>\n",
       "      <td>1.483475</td>\n",
       "    </tr>\n",
       "    <tr>\n",
       "      <th>min</th>\n",
       "      <td>0.170000</td>\n",
       "      <td>84.000000</td>\n",
       "    </tr>\n",
       "    <tr>\n",
       "      <th>25%</th>\n",
       "      <td>5.280000</td>\n",
       "      <td>93.000000</td>\n",
       "    </tr>\n",
       "    <tr>\n",
       "      <th>50%</th>\n",
       "      <td>6.170000</td>\n",
       "      <td>93.000000</td>\n",
       "    </tr>\n",
       "    <tr>\n",
       "      <th>75%</th>\n",
       "      <td>9.600000</td>\n",
       "      <td>94.000000</td>\n",
       "    </tr>\n",
       "    <tr>\n",
       "      <th>max</th>\n",
       "      <td>132.280000</td>\n",
       "      <td>97.000000</td>\n",
       "    </tr>\n",
       "  </tbody>\n",
       "</table>\n",
       "</div>"
      ],
      "text/plain": [
       "          100g_USD       rating\n",
       "count  1234.000000  1234.000000\n",
       "mean     10.093679    93.300648\n",
       "std      11.965835     1.483475\n",
       "min       0.170000    84.000000\n",
       "25%       5.280000    93.000000\n",
       "50%       6.170000    93.000000\n",
       "75%       9.600000    94.000000\n",
       "max     132.280000    97.000000"
      ]
     },
     "execution_count": 10,
     "metadata": {},
     "output_type": "execute_result"
    }
   ],
   "source": [
    "dff.describe()"
   ]
  },
  {
   "cell_type": "markdown",
   "id": "09e9ab33",
   "metadata": {},
   "source": [
    "* As we can see the price will start from 0.17 cents per 100g to 132.28 dollar per 100g. Average price of coffee is 10 dollars.\n",
    "* The rating will start from 84 to 97 and the average rate of coffee is 93 "
   ]
  },
  {
   "cell_type": "markdown",
   "id": "28916cd0",
   "metadata": {},
   "source": [
    "### Analyse and Visualise the dataset"
   ]
  },
  {
   "cell_type": "markdown",
   "id": "312580ae",
   "metadata": {},
   "source": [
    "**Q- What is the most popular roast type?**"
   ]
  },
  {
   "cell_type": "code",
   "execution_count": 11,
   "id": "07ce1461",
   "metadata": {},
   "outputs": [
    {
     "data": {
      "text/plain": [
       "Medium-Light    904\n",
       "Light           198\n",
       "Medium          114\n",
       "Medium-Dark      15\n",
       "Dark              3\n",
       "Name: roast, dtype: int64"
      ]
     },
     "execution_count": 11,
     "metadata": {},
     "output_type": "execute_result"
    }
   ],
   "source": [
    "#lets check out how many Type of each roast\n",
    "roast_vc = dff.roast.value_counts()\n",
    "roast_vc"
   ]
  },
  {
   "cell_type": "code",
   "execution_count": 12,
   "id": "628f46c1",
   "metadata": {},
   "outputs": [
    {
     "data": {
      "image/png": "[encoded data removed]",
      "text/plain": [
       "<Figure size 800x400 with 1 Axes>"
      ]
     },
     "metadata": {},
     "output_type": "display_data"
    }
   ],
   "source": [
    "plt.figure(figsize=(8,4))\n",
    "roast_vc.plot(kind='bar')\n",
    "plt.title('roasts type', fontsize = 14)\n",
    "plt.xlabel('roast')\n",
    "plt.ylabel('Number of each roast type');"
   ]
  },
  {
   "cell_type": "markdown",
   "id": "1fa3c1c0",
   "metadata": {},
   "source": [
    "From the graph above, Medium-Light roast is the most popular."
   ]
  },
  {
   "cell_type": "code",
   "execution_count": 67,
   "id": "17e0b68b",
   "metadata": {},
   "outputs": [
    {
     "data": {
      "image/png": "[encoded data removed]",
      "text/plain": [
       "<Figure size 600x600 with 1 Axes>"
      ]
     },
     "metadata": {},
     "output_type": "display_data"
    }
   ],
   "source": [
    "plt.figure(figsize=(6,6))\n",
    "base_color = sns.color_palette()[4]\n",
    "sns.boxplot(data = dff, x = 'roast', y = 'rating', color = 'purple')\n",
    "plt.title('roast by rate', fontsize = 14)\n",
    "plt.xlabel('roasts')\n",
    "plt.ylabel('rate');"
   ]
  },
  {
   "cell_type": "markdown",
   "id": "c0820a74",
   "metadata": {},
   "source": [
    "**Q- which country got the mean highest rate?**"
   ]
  },
  {
   "cell_type": "code",
   "execution_count": 21,
   "id": "351ad6bd",
   "metadata": {},
   "outputs": [
    {
     "data": {
      "text/html": [
       "<div>\n",
       "<style scoped>\n",
       "    .dataframe tbody tr th:only-of-type {\n",
       "        vertical-align: middle;\n",
       "    }\n",
       "\n",
       "    .dataframe tbody tr th {\n",
       "        vertical-align: top;\n",
       "    }\n",
       "\n",
       "    .dataframe thead th {\n",
       "        text-align: right;\n",
       "    }\n",
       "</style>\n",
       "<table border=\"1\" class=\"dataframe\">\n",
       "  <thead>\n",
       "    <tr style=\"text-align: right;\">\n",
       "      <th></th>\n",
       "      <th>100g_USD</th>\n",
       "      <th>rating</th>\n",
       "    </tr>\n",
       "    <tr>\n",
       "      <th>loc_country</th>\n",
       "      <th></th>\n",
       "      <th></th>\n",
       "    </tr>\n",
       "  </thead>\n",
       "  <tbody>\n",
       "    <tr>\n",
       "      <th>Australia</th>\n",
       "      <td>69.000000</td>\n",
       "      <td>96.000000</td>\n",
       "    </tr>\n",
       "    <tr>\n",
       "      <th>Canada</th>\n",
       "      <td>4.986000</td>\n",
       "      <td>93.600000</td>\n",
       "    </tr>\n",
       "    <tr>\n",
       "      <th>China</th>\n",
       "      <td>22.530000</td>\n",
       "      <td>90.000000</td>\n",
       "    </tr>\n",
       "    <tr>\n",
       "      <th>England</th>\n",
       "      <td>50.415000</td>\n",
       "      <td>94.500000</td>\n",
       "    </tr>\n",
       "    <tr>\n",
       "      <th>Guatemala</th>\n",
       "      <td>3.545417</td>\n",
       "      <td>90.500000</td>\n",
       "    </tr>\n",
       "    <tr>\n",
       "      <th>Hawai'i</th>\n",
       "      <td>18.151688</td>\n",
       "      <td>93.415584</td>\n",
       "    </tr>\n",
       "    <tr>\n",
       "      <th>Hong Kong</th>\n",
       "      <td>15.617778</td>\n",
       "      <td>92.666667</td>\n",
       "    </tr>\n",
       "    <tr>\n",
       "      <th>Japan</th>\n",
       "      <td>10.748750</td>\n",
       "      <td>92.375000</td>\n",
       "    </tr>\n",
       "    <tr>\n",
       "      <th>Kenya</th>\n",
       "      <td>6.910000</td>\n",
       "      <td>94.000000</td>\n",
       "    </tr>\n",
       "    <tr>\n",
       "      <th>New Taiwan</th>\n",
       "      <td>9.460000</td>\n",
       "      <td>93.000000</td>\n",
       "    </tr>\n",
       "    <tr>\n",
       "      <th>Taiwan</th>\n",
       "      <td>10.152874</td>\n",
       "      <td>93.640719</td>\n",
       "    </tr>\n",
       "    <tr>\n",
       "      <th>United States</th>\n",
       "      <td>9.236783</td>\n",
       "      <td>93.241245</td>\n",
       "    </tr>\n",
       "  </tbody>\n",
       "</table>\n",
       "</div>"
      ],
      "text/plain": [
       "                100g_USD     rating\n",
       "loc_country                        \n",
       "Australia      69.000000  96.000000\n",
       "Canada          4.986000  93.600000\n",
       "China          22.530000  90.000000\n",
       "England        50.415000  94.500000\n",
       "Guatemala       3.545417  90.500000\n",
       "Hawai'i        18.151688  93.415584\n",
       "Hong Kong      15.617778  92.666667\n",
       "Japan          10.748750  92.375000\n",
       "Kenya           6.910000  94.000000\n",
       "New Taiwan      9.460000  93.000000\n",
       "Taiwan         10.152874  93.640719\n",
       "United States   9.236783  93.241245"
      ]
     },
     "execution_count": 21,
     "metadata": {},
     "output_type": "execute_result"
    }
   ],
   "source": [
    "df2 = dff.groupby('loc_country').mean()\n",
    "df2"
   ]
  },
  {
   "cell_type": "code",
   "execution_count": 70,
   "id": "90804780",
   "metadata": {},
   "outputs": [
    {
     "data": {
      "text/html": [
       "<div>\n",
       "<style scoped>\n",
       "    .dataframe tbody tr th:only-of-type {\n",
       "        vertical-align: middle;\n",
       "    }\n",
       "\n",
       "    .dataframe tbody tr th {\n",
       "        vertical-align: top;\n",
       "    }\n",
       "\n",
       "    .dataframe thead th {\n",
       "        text-align: right;\n",
       "    }\n",
       "</style>\n",
       "<table border=\"1\" class=\"dataframe\">\n",
       "  <thead>\n",
       "    <tr style=\"text-align: right;\">\n",
       "      <th></th>\n",
       "      <th>100g_USD</th>\n",
       "      <th>rating</th>\n",
       "    </tr>\n",
       "  </thead>\n",
       "  <tbody>\n",
       "    <tr>\n",
       "      <th>count</th>\n",
       "      <td>12.000000</td>\n",
       "      <td>12.000000</td>\n",
       "    </tr>\n",
       "    <tr>\n",
       "      <th>mean</th>\n",
       "      <td>19.229524</td>\n",
       "      <td>93.078268</td>\n",
       "    </tr>\n",
       "    <tr>\n",
       "      <th>std</th>\n",
       "      <td>20.056695</td>\n",
       "      <td>1.621718</td>\n",
       "    </tr>\n",
       "    <tr>\n",
       "      <th>min</th>\n",
       "      <td>3.545417</td>\n",
       "      <td>90.000000</td>\n",
       "    </tr>\n",
       "    <tr>\n",
       "      <th>25%</th>\n",
       "      <td>8.655088</td>\n",
       "      <td>92.593750</td>\n",
       "    </tr>\n",
       "    <tr>\n",
       "      <th>50%</th>\n",
       "      <td>10.450812</td>\n",
       "      <td>93.328415</td>\n",
       "    </tr>\n",
       "    <tr>\n",
       "      <th>75%</th>\n",
       "      <td>19.246266</td>\n",
       "      <td>93.730539</td>\n",
       "    </tr>\n",
       "    <tr>\n",
       "      <th>max</th>\n",
       "      <td>69.000000</td>\n",
       "      <td>96.000000</td>\n",
       "    </tr>\n",
       "  </tbody>\n",
       "</table>\n",
       "</div>"
      ],
      "text/plain": [
       "        100g_USD     rating\n",
       "count  12.000000  12.000000\n",
       "mean   19.229524  93.078268\n",
       "std    20.056695   1.621718\n",
       "min     3.545417  90.000000\n",
       "25%     8.655088  92.593750\n",
       "50%    10.450812  93.328415\n",
       "75%    19.246266  93.730539\n",
       "max    69.000000  96.000000"
      ]
     },
     "execution_count": 70,
     "metadata": {},
     "output_type": "execute_result"
    }
   ],
   "source": [
    "df2.describe()"
   ]
  },
  {
   "cell_type": "code",
   "execution_count": 15,
   "id": "ca6fb737",
   "metadata": {},
   "outputs": [
    {
     "data": {
      "text/html": [
       "<div>\n",
       "<style scoped>\n",
       "    .dataframe tbody tr th:only-of-type {\n",
       "        vertical-align: middle;\n",
       "    }\n",
       "\n",
       "    .dataframe tbody tr th {\n",
       "        vertical-align: top;\n",
       "    }\n",
       "\n",
       "    .dataframe thead th {\n",
       "        text-align: right;\n",
       "    }\n",
       "</style>\n",
       "<table border=\"1\" class=\"dataframe\">\n",
       "  <thead>\n",
       "    <tr style=\"text-align: right;\">\n",
       "      <th></th>\n",
       "      <th>100g_USD</th>\n",
       "      <th>rating</th>\n",
       "    </tr>\n",
       "    <tr>\n",
       "      <th>loc_country</th>\n",
       "      <th></th>\n",
       "      <th></th>\n",
       "    </tr>\n",
       "  </thead>\n",
       "  <tbody>\n",
       "    <tr>\n",
       "      <th>Australia</th>\n",
       "      <td>69.000000</td>\n",
       "      <td>96.000000</td>\n",
       "    </tr>\n",
       "    <tr>\n",
       "      <th>England</th>\n",
       "      <td>50.415000</td>\n",
       "      <td>94.500000</td>\n",
       "    </tr>\n",
       "    <tr>\n",
       "      <th>Kenya</th>\n",
       "      <td>6.910000</td>\n",
       "      <td>94.000000</td>\n",
       "    </tr>\n",
       "    <tr>\n",
       "      <th>Taiwan</th>\n",
       "      <td>10.152874</td>\n",
       "      <td>93.640719</td>\n",
       "    </tr>\n",
       "    <tr>\n",
       "      <th>Canada</th>\n",
       "      <td>4.986000</td>\n",
       "      <td>93.600000</td>\n",
       "    </tr>\n",
       "    <tr>\n",
       "      <th>Hawai'i</th>\n",
       "      <td>18.151688</td>\n",
       "      <td>93.415584</td>\n",
       "    </tr>\n",
       "    <tr>\n",
       "      <th>United States</th>\n",
       "      <td>9.236783</td>\n",
       "      <td>93.241245</td>\n",
       "    </tr>\n",
       "    <tr>\n",
       "      <th>New Taiwan</th>\n",
       "      <td>9.460000</td>\n",
       "      <td>93.000000</td>\n",
       "    </tr>\n",
       "    <tr>\n",
       "      <th>Hong Kong</th>\n",
       "      <td>15.617778</td>\n",
       "      <td>92.666667</td>\n",
       "    </tr>\n",
       "    <tr>\n",
       "      <th>Japan</th>\n",
       "      <td>10.748750</td>\n",
       "      <td>92.375000</td>\n",
       "    </tr>\n",
       "  </tbody>\n",
       "</table>\n",
       "</div>"
      ],
      "text/plain": [
       "                100g_USD     rating\n",
       "loc_country                        \n",
       "Australia      69.000000  96.000000\n",
       "England        50.415000  94.500000\n",
       "Kenya           6.910000  94.000000\n",
       "Taiwan         10.152874  93.640719\n",
       "Canada          4.986000  93.600000\n",
       "Hawai'i        18.151688  93.415584\n",
       "United States   9.236783  93.241245\n",
       "New Taiwan      9.460000  93.000000\n",
       "Hong Kong      15.617778  92.666667\n",
       "Japan          10.748750  92.375000"
      ]
     },
     "execution_count": 15,
     "metadata": {},
     "output_type": "execute_result"
    }
   ],
   "source": [
    "#top 10 countries with most mean rate\n",
    "df3 = df2.sort_values(by='rating',ascending=False)[:10]\n",
    "df3"
   ]
  },
  {
   "cell_type": "code",
   "execution_count": 16,
   "id": "d6066330",
   "metadata": {},
   "outputs": [],
   "source": [
    "x_values = df3['rating']\n",
    "y_values = df3.index.to_series()"
   ]
  },
  {
   "cell_type": "code",
   "execution_count": 17,
   "id": "b7de17ee",
   "metadata": {},
   "outputs": [
    {
     "data": {
      "text/plain": [
       "loc_country\n",
       "Australia            Australia\n",
       "England                England\n",
       "Kenya                    Kenya\n",
       "Taiwan                  Taiwan\n",
       "Canada                  Canada\n",
       "Hawai'i                Hawai'i\n",
       "United States    United States\n",
       "New Taiwan          New Taiwan\n",
       "Hong Kong            Hong Kong\n",
       "Japan                    Japan\n",
       "Name: loc_country, dtype: object"
      ]
     },
     "execution_count": 17,
     "metadata": {},
     "output_type": "execute_result"
    }
   ],
   "source": [
    "y_values"
   ]
  },
  {
   "cell_type": "code",
   "execution_count": 68,
   "id": "a7479232",
   "metadata": {},
   "outputs": [
    {
     "data": {
      "image/png": "[encoded data removed]",
      "text/plain": [
       "<Figure size 800x400 with 1 Axes>"
      ]
     },
     "metadata": {},
     "output_type": "display_data"
    }
   ],
   "source": [
    "plt.figure(figsize=(8,4))\n",
    "plt.xlim()\n",
    "sns.barplot(x=x_values,y=y_values,palette='crest')\n",
    "plt.title('top 10 average rate by countries')\n",
    "plt.xlabel('average rate')\n",
    "plt.ylabel('countries');"
   ]
  },
  {
   "cell_type": "markdown",
   "id": "d354f254",
   "metadata": {},
   "source": [
    "We note from the graph that the rate is close among the top 10 countries and all of them obtained a rate of more than 90."
   ]
  },
  {
   "cell_type": "markdown",
   "id": "69d7716d",
   "metadata": {},
   "source": [
    "**Q- What are the top 5 countries that have the most expensive coffee by mean?**"
   ]
  },
  {
   "cell_type": "code",
   "execution_count": 35,
   "id": "cdc17082",
   "metadata": {},
   "outputs": [
    {
     "data": {
      "text/html": [
       "<div>\n",
       "<style scoped>\n",
       "    .dataframe tbody tr th:only-of-type {\n",
       "        vertical-align: middle;\n",
       "    }\n",
       "\n",
       "    .dataframe tbody tr th {\n",
       "        vertical-align: top;\n",
       "    }\n",
       "\n",
       "    .dataframe thead th {\n",
       "        text-align: right;\n",
       "    }\n",
       "</style>\n",
       "<table border=\"1\" class=\"dataframe\">\n",
       "  <thead>\n",
       "    <tr style=\"text-align: right;\">\n",
       "      <th></th>\n",
       "      <th>100g_USD</th>\n",
       "      <th>rating</th>\n",
       "    </tr>\n",
       "    <tr>\n",
       "      <th>loc_country</th>\n",
       "      <th></th>\n",
       "      <th></th>\n",
       "    </tr>\n",
       "  </thead>\n",
       "  <tbody>\n",
       "    <tr>\n",
       "      <th>Australia</th>\n",
       "      <td>69.000000</td>\n",
       "      <td>96.000000</td>\n",
       "    </tr>\n",
       "    <tr>\n",
       "      <th>England</th>\n",
       "      <td>50.415000</td>\n",
       "      <td>94.500000</td>\n",
       "    </tr>\n",
       "    <tr>\n",
       "      <th>China</th>\n",
       "      <td>22.530000</td>\n",
       "      <td>90.000000</td>\n",
       "    </tr>\n",
       "    <tr>\n",
       "      <th>Hawai'i</th>\n",
       "      <td>18.151688</td>\n",
       "      <td>93.415584</td>\n",
       "    </tr>\n",
       "    <tr>\n",
       "      <th>Hong Kong</th>\n",
       "      <td>15.617778</td>\n",
       "      <td>92.666667</td>\n",
       "    </tr>\n",
       "  </tbody>\n",
       "</table>\n",
       "</div>"
      ],
      "text/plain": [
       "              100g_USD     rating\n",
       "loc_country                      \n",
       "Australia    69.000000  96.000000\n",
       "England      50.415000  94.500000\n",
       "China        22.530000  90.000000\n",
       "Hawai'i      18.151688  93.415584\n",
       "Hong Kong    15.617778  92.666667"
      ]
     },
     "execution_count": 35,
     "metadata": {},
     "output_type": "execute_result"
    }
   ],
   "source": [
    "df4 = df2.sort_values(by='100g_USD',ascending=False)[:5]\n",
    "df4"
   ]
  },
  {
   "cell_type": "code",
   "execution_count": 69,
   "id": "84a2bbb3",
   "metadata": {},
   "outputs": [
    {
     "data": {
      "image/png": "[encoded data removed]",
      "text/plain": [
       "<Figure size 800x400 with 1 Axes>"
      ]
     },
     "metadata": {},
     "output_type": "display_data"
    }
   ],
   "source": [
    "yy_values = df4.index.to_series()\n",
    "xx_values = df4['100g_USD']\n",
    "plt.figure(figsize=(8,4))\n",
    "plt.xlim()\n",
    "sns.barplot(x=xx_values,y=yy_values,palette='Greens_r')\n",
    "plt.title('top 5 average price by countries')\n",
    "plt.xlabel('average price')\n",
    "plt.ylabel('countries');"
   ]
  },
  {
   "cell_type": "markdown",
   "id": "6e512b9f",
   "metadata": {},
   "source": [
    "Australia produces the most expensive country for its roasters, followed by Britain, China, Hawaii and Hong Kong."
   ]
  },
  {
   "cell_type": "markdown",
   "id": "6fe6497d",
   "metadata": {},
   "source": [
    "**Q- What is the most common evaluation in the data?**"
   ]
  },
  {
   "cell_type": "code",
   "execution_count": 114,
   "id": "49641c87",
   "metadata": {},
   "outputs": [
    {
     "data": {
      "image/png": "[encoded data removed]",
      "text/plain": [
       "<Figure size 700x400 with 1 Axes>"
      ]
     },
     "metadata": {},
     "output_type": "display_data"
    }
   ],
   "source": [
    "plt.figure(figsize=(7,4))\n",
    "bin_edges = np.arange (85, dff['rating'].max()+1, 1)\n",
    "plt.hist(data = dff, x = 'rating', bins = bin_edges, color = 'green')\n",
    "plt.xlim(85,98)\n",
    "#plt.xticks([85,86,87,88,89,90,91,92,93,94,95,96,97,98,99,100])\n",
    "plt.xlabel('rates')\n",
    "plt.ylabel('Number of Ratings')\n",
    "plt.show();"
   ]
  },
  {
   "cell_type": "code",
   "execution_count": 105,
   "id": "2c3be8d9",
   "metadata": {},
   "outputs": [
    {
     "data": {
      "image/png": "[encoded data removed]",
      "text/plain": [
       "<Figure size 700x400 with 1 Axes>"
      ]
     },
     "metadata": {},
     "output_type": "display_data"
    }
   ],
   "source": [
    "plt.figure(figsize=(7,4))\n",
    "rate.plot(kind='bar',color='purple')\n",
    "plt.title('Number of coffee Rating')\n",
    "plt.xlabel('rate')\n",
    "plt.ylabel('Number of Ratings');"
   ]
  },
  {
   "cell_type": "markdown",
   "id": "e8cd5dc2",
   "metadata": {},
   "source": [
    "From the graphs above, we can see that the most common rate is 93 and 94."
   ]
  },
  {
   "cell_type": "markdown",
   "id": "5c26c2e7",
   "metadata": {},
   "source": [
    "**Q- What country has the most roasters?**"
   ]
  },
  {
   "cell_type": "code",
   "execution_count": 29,
   "id": "0c0195d2",
   "metadata": {},
   "outputs": [
    {
     "data": {
      "text/plain": [
       "United States    771\n",
       "Taiwan           334\n",
       "Hawai'i           77\n",
       "Guatemala         24\n",
       "Hong Kong          9\n",
       "Japan              8\n",
       "Canada             5\n",
       "England            2\n",
       "Australia          1\n",
       "China              1\n",
       "Kenya              1\n",
       "New Taiwan         1\n",
       "Name: loc_country, dtype: int64"
      ]
     },
     "execution_count": 29,
     "metadata": {},
     "output_type": "execute_result"
    }
   ],
   "source": [
    "dff.loc_country.value_counts()"
   ]
  },
  {
   "cell_type": "code",
   "execution_count": 94,
   "id": "57a5036c",
   "metadata": {},
   "outputs": [
    {
     "data": {
      "image/png": "[encoded data removed]",
      "text/plain": [
       "<Figure size 700x400 with 1 Axes>"
      ]
     },
     "metadata": {},
     "output_type": "display_data"
    }
   ],
   "source": [
    "loc_country = dff.loc_country.value_counts()\n",
    "plt.figure(figsize=(7,4))\n",
    "loc_country.plot(kind='bar',color='purple')\n",
    "plt.title('Number of loc_country')\n",
    "plt.xlabel('loc_country')\n",
    "plt.ylabel('Number of loc_country');"
   ]
  },
  {
   "cell_type": "markdown",
   "id": "4a59690a",
   "metadata": {},
   "source": [
    "As we can see from the graph above that the top 3 locations of the roasters are United States, Taiwan and Hawai'i."
   ]
  },
  {
   "cell_type": "markdown",
   "id": "97fb1f3c",
   "metadata": {},
   "source": [
    "**Q- What are the top 5 roasters in the data?**"
   ]
  },
  {
   "cell_type": "code",
   "execution_count": 38,
   "id": "7ebdb4e0",
   "metadata": {},
   "outputs": [
    {
     "data": {
      "text/plain": [
       "JBC Coffee Roasters          91\n",
       "Kakalove Cafe                91\n",
       "Paradise Roasters            83\n",
       "Dragonfly Coffee Roasters    30\n",
       "Bird Rock Coffee Roasters    29\n",
       "Name: roaster, dtype: int64"
      ]
     },
     "execution_count": 38,
     "metadata": {},
     "output_type": "execute_result"
    }
   ],
   "source": [
    "#lets check out the top 10 roasters on dataset\n",
    "dff.roaster.value_counts()[:5]"
   ]
  },
  {
   "cell_type": "code",
   "execution_count": 41,
   "id": "30f5c5fa",
   "metadata": {},
   "outputs": [
    {
     "data": {
      "image/png": "[encoded data removed]",
      "text/plain": [
       "<Figure size 700x400 with 1 Axes>"
      ]
     },
     "metadata": {},
     "output_type": "display_data"
    }
   ],
   "source": [
    "roaster = dff.roaster.value_counts()[:5]\n",
    "plt.figure(figsize=(7,4))\n",
    "roaster.plot(kind='bar', y=roaster,color='purple')\n",
    "plt.title('Top 5 coffee roasters')\n",
    "plt.xlabel('roaster')\n",
    "plt.ylabel('Number of rouster');"
   ]
  },
  {
   "cell_type": "markdown",
   "id": "1cfc01dd",
   "metadata": {},
   "source": [
    "**Q- what is the most origin of the beans in the dataset?**"
   ]
  },
  {
   "cell_type": "code",
   "execution_count": 47,
   "id": "1a603cc6",
   "metadata": {},
   "outputs": [
    {
     "data": {
      "text/plain": [
       "Ethiopia                            443\n",
       "Colombia                            151\n",
       "Kenya                               143\n",
       "Hawai'I                             113\n",
       "Guatemala                            96\n",
       "Panama                               65\n",
       "Costa Rica                           46\n",
       "Indonesia                            28\n",
       "El Salvador                          14\n",
       "Democratic Republic Of The Congo     14\n",
       "Name: origin, dtype: int64"
      ]
     },
     "execution_count": 47,
     "metadata": {},
     "output_type": "execute_result"
    }
   ],
   "source": [
    "dff.origin.value_counts()[:10]"
   ]
  },
  {
   "cell_type": "code",
   "execution_count": 50,
   "id": "3c2f8517",
   "metadata": {},
   "outputs": [
    {
     "data": {
      "image/png": "[encoded data removed]",
      "text/plain": [
       "<Figure size 700x400 with 1 Axes>"
      ]
     },
     "metadata": {},
     "output_type": "display_data"
    }
   ],
   "source": [
    "origin = dff.origin.value_counts()[:10]\n",
    "plt.figure(figsize=(7,4))\n",
    "origin.plot(kind='bar',color='purple')\n",
    "plt.title('Top 10 Origin of the beans')\n",
    "plt.xlabel('origin')\n",
    "plt.ylabel('Number of origin');"
   ]
  },
  {
   "cell_type": "markdown",
   "id": "6adda306",
   "metadata": {},
   "source": [
    "As we note, Ethiopian coffee is the most widespread in the world, and in my personal opinion, it is considered the best coffee after Colombian coffee."
   ]
  },
  {
   "cell_type": "markdown",
   "id": "0a8d0adc",
   "metadata": {},
   "source": [
    "**Q- what is the most expensive coffee?**"
   ]
  },
  {
   "cell_type": "code",
   "execution_count": 33,
   "id": "e37ce055",
   "metadata": {},
   "outputs": [
    {
     "data": {
      "text/plain": [
       "132.28"
      ]
     },
     "execution_count": 33,
     "metadata": {},
     "output_type": "execute_result"
    }
   ],
   "source": [
    "dff['100g_USD'].max()"
   ]
  },
  {
   "cell_type": "code",
   "execution_count": 34,
   "id": "800a1862",
   "metadata": {},
   "outputs": [
    {
     "data": {
      "text/html": [
       "<div>\n",
       "<style scoped>\n",
       "    .dataframe tbody tr th:only-of-type {\n",
       "        vertical-align: middle;\n",
       "    }\n",
       "\n",
       "    .dataframe tbody tr th {\n",
       "        vertical-align: top;\n",
       "    }\n",
       "\n",
       "    .dataframe thead th {\n",
       "        text-align: right;\n",
       "    }\n",
       "</style>\n",
       "<table border=\"1\" class=\"dataframe\">\n",
       "  <thead>\n",
       "    <tr style=\"text-align: right;\">\n",
       "      <th></th>\n",
       "      <th>name</th>\n",
       "      <th>roaster</th>\n",
       "      <th>roast</th>\n",
       "      <th>loc_country</th>\n",
       "      <th>origin</th>\n",
       "      <th>100g_USD</th>\n",
       "      <th>rating</th>\n",
       "      <th>review_date</th>\n",
       "      <th>review</th>\n",
       "    </tr>\n",
       "  </thead>\n",
       "  <tbody>\n",
       "    <tr>\n",
       "      <th>943</th>\n",
       "      <td>Mama Cata Mokkita</td>\n",
       "      <td>Paradise Roasters</td>\n",
       "      <td>Medium-Light</td>\n",
       "      <td>United States</td>\n",
       "      <td>Panama</td>\n",
       "      <td>132.28</td>\n",
       "      <td>97</td>\n",
       "      <td>2021-11-01</td>\n",
       "      <td>Aromatically other-worldly, resoundingly juicy...</td>\n",
       "    </tr>\n",
       "  </tbody>\n",
       "</table>\n",
       "</div>"
      ],
      "text/plain": [
       "                  name            roaster         roast    loc_country  \\\n",
       "943  Mama Cata Mokkita  Paradise Roasters  Medium-Light  United States   \n",
       "\n",
       "     origin  100g_USD  rating review_date  \\\n",
       "943  Panama    132.28      97  2021-11-01   \n",
       "\n",
       "                                                review  \n",
       "943  Aromatically other-worldly, resoundingly juicy...  "
      ]
     },
     "execution_count": 34,
     "metadata": {},
     "output_type": "execute_result"
    }
   ],
   "source": [
    "dff.loc[dff['100g_USD'] == 132.28]"
   ]
  },
  {
   "cell_type": "markdown",
   "id": "aa6032bb",
   "metadata": {},
   "source": [
    "Mama Cata Mokkita got the most expensive coffee and from my analysis before, it's Medium-Light beans which is the most popular roast and got high rates (above 90)."
   ]
  },
  {
   "cell_type": "code",
   "execution_count": 51,
   "id": "490c16ac",
   "metadata": {},
   "outputs": [],
   "source": [
    "eth = dff.loc[dff['origin'] == 'Ethiopia']"
   ]
  },
  {
   "cell_type": "code",
   "execution_count": 42,
   "id": "b9ee3ebc",
   "metadata": {},
   "outputs": [],
   "source": [
    "#plt.figure(figsize=(7,4))\n",
    "#bin_edges = np.arange (10, eth['100g_USD'].max()+1, 5)\n",
    "#plt.hist(data = eth, x = '100g_USD', bins = bin_edges)\n",
    "#plt.xlim(10,135)\n",
    "#plt.xticks([10,15,20,30,40,50,70,90,110])\n",
    "#plt.xlabel('100g_USD')\n",
    "#plt.ylabel('Number of Ratings')\n",
    "#plt.show();"
   ]
  },
  {
   "cell_type": "markdown",
   "id": "d64931a7",
   "metadata": {},
   "source": [
    "**Q- Is there a relationship between rate and the price?**"
   ]
  },
  {
   "cell_type": "code",
   "execution_count": 64,
   "id": "95e9026d",
   "metadata": {},
   "outputs": [
    {
     "data": {
      "image/png": "[encoded data removed]",
      "text/plain": [
       "<Figure size 400x300 with 2 Axes>"
      ]
     },
     "metadata": {},
     "output_type": "display_data"
    }
   ],
   "source": [
    "num_vars = ['rating' , '100g_USD']\n",
    "cat_vars = ['roaster','roast','loc_country','origin']\n",
    "plt.figure(figsize= [4,3])\n",
    "sns.heatmap(dff[num_vars].corr(), annot= True , fmt = '.3f' , cmap = 'vlag_r' , center = 0)\n",
    "plt.show();"
   ]
  },
  {
   "cell_type": "markdown",
   "id": "98c59870",
   "metadata": {},
   "source": [
    "As we can see, 0.255 between 0 and 0.3 which mean we have a weak relationship."
   ]
  },
  {
   "cell_type": "code",
   "execution_count": 54,
   "id": "e2f31ed1",
   "metadata": {},
   "outputs": [
    {
     "data": {
      "text/plain": [
       "count    1234.000000\n",
       "mean       10.093679\n",
       "std        11.965835\n",
       "min         0.170000\n",
       "25%         5.280000\n",
       "50%         6.170000\n",
       "75%         9.600000\n",
       "max       132.280000\n",
       "Name: 100g_USD, dtype: float64"
      ]
     },
     "execution_count": 54,
     "metadata": {},
     "output_type": "execute_result"
    }
   ],
   "source": [
    "dff['100g_USD'].describe()"
   ]
  },
  {
   "cell_type": "code",
   "execution_count": 48,
   "id": "426fabec",
   "metadata": {},
   "outputs": [
    {
     "data": {
      "image/png": "[encoded data removed]",
      "text/plain": [
       "<Figure size 1000x600 with 1 Axes>"
      ]
     },
     "metadata": {},
     "output_type": "display_data"
    }
   ],
   "source": [
    "plt.figure(figsize=(10,6))\n",
    "bin_edges = np.arange (85, dff['rating'].max()+1, 1)\n",
    "plt.scatter(data = dff, x = 'rating',y='100g_USD',color='purple')\n",
    "plt.xlim(85,100)\n",
    "plt.xticks([85,86,87,88,89,90,91,92,93,94,95,96,97,98,99,100])\n",
    "plt.xlabel('rates')\n",
    "plt.ylabel('price')\n",
    "plt.show();"
   ]
  },
  {
   "cell_type": "code",
   "execution_count": 36,
   "id": "01141f66",
   "metadata": {},
   "outputs": [],
   "source": [
    "#To use simple linear regression \n",
    "import statsmodels.api as sm"
   ]
  },
  {
   "cell_type": "code",
   "execution_count": 37,
   "id": "6528946d",
   "metadata": {},
   "outputs": [
    {
     "data": {
      "text/html": [
       "<table class=\"simpletable\">\n",
       "<caption>OLS Regression Results</caption>\n",
       "<tr>\n",
       "  <th>Dep. Variable:</th>        <td>100g_USD</td>     <th>  R-squared:         </th> <td>   0.065</td>\n",
       "</tr>\n",
       "<tr>\n",
       "  <th>Model:</th>                   <td>OLS</td>       <th>  Adj. R-squared:    </th> <td>   0.064</td>\n",
       "</tr>\n",
       "<tr>\n",
       "  <th>Method:</th>             <td>Least Squares</td>  <th>  F-statistic:       </th> <td>   85.88</td>\n",
       "</tr>\n",
       "<tr>\n",
       "  <th>Date:</th>             <td>Fri, 26 May 2023</td> <th>  Prob (F-statistic):</th> <td>8.28e-20</td>\n",
       "</tr>\n",
       "<tr>\n",
       "  <th>Time:</th>                 <td>17:11:07</td>     <th>  Log-Likelihood:    </th> <td> -4771.8</td>\n",
       "</tr>\n",
       "<tr>\n",
       "  <th>No. Observations:</th>      <td>  1234</td>      <th>  AIC:               </th> <td>   9548.</td>\n",
       "</tr>\n",
       "<tr>\n",
       "  <th>Df Residuals:</th>          <td>  1232</td>      <th>  BIC:               </th> <td>   9558.</td>\n",
       "</tr>\n",
       "<tr>\n",
       "  <th>Df Model:</th>              <td>     1</td>      <th>                     </th>     <td> </td>   \n",
       "</tr>\n",
       "<tr>\n",
       "  <th>Covariance Type:</th>      <td>nonrobust</td>    <th>                     </th>     <td> </td>   \n",
       "</tr>\n",
       "</table>\n",
       "<table class=\"simpletable\">\n",
       "<tr>\n",
       "      <td></td>         <th>coef</th>     <th>std err</th>      <th>t</th>      <th>P>|t|</th>  <th>[0.025</th>    <th>0.975]</th>  \n",
       "</tr>\n",
       "<tr>\n",
       "  <th>intercept</th> <td> -182.0145</td> <td>   20.733</td> <td>   -8.779</td> <td> 0.000</td> <td> -222.691</td> <td> -141.338</td>\n",
       "</tr>\n",
       "<tr>\n",
       "  <th>rating</th>    <td>    2.0590</td> <td>    0.222</td> <td>    9.267</td> <td> 0.000</td> <td>    1.623</td> <td>    2.495</td>\n",
       "</tr>\n",
       "</table>\n",
       "<table class=\"simpletable\">\n",
       "<tr>\n",
       "  <th>Omnibus:</th>       <td>1305.805</td> <th>  Durbin-Watson:     </th> <td>   1.399</td> \n",
       "</tr>\n",
       "<tr>\n",
       "  <th>Prob(Omnibus):</th>  <td> 0.000</td>  <th>  Jarque-Bera (JB):  </th> <td>76449.440</td>\n",
       "</tr>\n",
       "<tr>\n",
       "  <th>Skew:</th>           <td> 5.172</td>  <th>  Prob(JB):          </th> <td>    0.00</td> \n",
       "</tr>\n",
       "<tr>\n",
       "  <th>Kurtosis:</th>       <td>40.147</td>  <th>  Cond. No.          </th> <td>5.87e+03</td> \n",
       "</tr>\n",
       "</table><br/><br/>Notes:<br/>[1] Standard Errors assume that the covariance matrix of the errors is correctly specified.<br/>[2] The condition number is large, 5.87e+03. This might indicate that there are<br/>strong multicollinearity or other numerical problems."
      ],
      "text/plain": [
       "<class 'statsmodels.iolib.summary.Summary'>\n",
       "\"\"\"\n",
       "                            OLS Regression Results                            \n",
       "==============================================================================\n",
       "Dep. Variable:               100g_USD   R-squared:                       0.065\n",
       "Model:                            OLS   Adj. R-squared:                  0.064\n",
       "Method:                 Least Squares   F-statistic:                     85.88\n",
       "Date:                Fri, 26 May 2023   Prob (F-statistic):           8.28e-20\n",
       "Time:                        17:11:07   Log-Likelihood:                -4771.8\n",
       "No. Observations:                1234   AIC:                             9548.\n",
       "Df Residuals:                    1232   BIC:                             9558.\n",
       "Df Model:                           1                                         \n",
       "Covariance Type:            nonrobust                                         \n",
       "==============================================================================\n",
       "                 coef    std err          t      P>|t|      [0.025      0.975]\n",
       "------------------------------------------------------------------------------\n",
       "intercept   -182.0145     20.733     -8.779      0.000    -222.691    -141.338\n",
       "rating         2.0590      0.222      9.267      0.000       1.623       2.495\n",
       "==============================================================================\n",
       "Omnibus:                     1305.805   Durbin-Watson:                   1.399\n",
       "Prob(Omnibus):                  0.000   Jarque-Bera (JB):            76449.440\n",
       "Skew:                           5.172   Prob(JB):                         0.00\n",
       "Kurtosis:                      40.147   Cond. No.                     5.87e+03\n",
       "==============================================================================\n",
       "\n",
       "Notes:\n",
       "[1] Standard Errors assume that the covariance matrix of the errors is correctly specified.\n",
       "[2] The condition number is large, 5.87e+03. This might indicate that there are\n",
       "strong multicollinearity or other numerical problems.\n",
       "\"\"\""
      ]
     },
     "execution_count": 37,
     "metadata": {},
     "output_type": "execute_result"
    }
   ],
   "source": [
    "dff['intercept'] = 1\n",
    "\n",
    "lm = sm.OLS(dff['100g_USD'], dff[['intercept','rating']])\n",
    "results = lm.fit()\n",
    "results.summary()"
   ]
  },
  {
   "cell_type": "markdown",
   "id": "1ab446c4",
   "metadata": {},
   "source": [
    "As we can see from the table, R-sqaured is one of the most common measures to see if the data is fit. If the value close to 1 the better my model fit.However, R-square is close to 0 in this model that mean there is no relationship between rate and price. "
   ]
  },
  {
   "cell_type": "markdown",
   "id": "fe42cedb",
   "metadata": {},
   "source": [
    "note: If the model fit, if x (b1) equal to 0 we would predict that the model will equal to (b0)'s value. For every one unit increase in the rates, the (b1) will increase by 2.059 "
   ]
  },
  {
   "cell_type": "markdown",
   "id": "84d72829",
   "metadata": {},
   "source": [
    "### Conclusions"
   ]
  },
  {
   "cell_type": "markdown",
   "id": "87aad85b",
   "metadata": {},
   "source": [
    "* The United States has the largest number of roasters in the world. But it does not necessarily produce expensive coffee, as Australia and England have a higher average price than the United States.\n",
    "* The most popular type of roast is medium light, and this is indicative because it is the most preferred by people.\n",
    "* The rates of the top 10 countries are all above 90, and this indicates the keenness to produce the best possible quality, as coffee is very important in every person’s day.\n",
    "* The price of coffee is not always affected by its quality, as you can get a high strength rate at an acceptable price."
   ]
  },
  {
   "cell_type": "code",
   "execution_count": null,
   "id": "03411522",
   "metadata": {},
   "outputs": [],
   "source": []
  }
 ],
 "metadata": {
  "kernelspec": {
   "display_name": "Python 3 (ipykernel)",
   "language": "python",
   "name": "python3"
  },
  "language_info": {
   "codemirror_mode": {
    "name": "ipython",
    "version": 3
   },
   "file_extension": ".py",
   "mimetype": "text/x-python",
   "name": "python",
   "nbconvert_exporter": "python",
   "pygments_lexer": "ipython3",
   "version": "3.9.13"
  }
 },
 "nbformat": 4,
 "nbformat_minor": 5
}
